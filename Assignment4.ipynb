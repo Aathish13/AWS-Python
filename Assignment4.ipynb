{
  "nbformat": 4,
  "nbformat_minor": 0,
  "metadata": {
    "colab": {
      "provenance": [],
      "authorship_tag": "ABX9TyO8ol7uWZTQ8qAFeQy693s0",
      "include_colab_link": true
    },
    "kernelspec": {
      "name": "python3",
      "display_name": "Python 3"
    },
    "language_info": {
      "name": "python"
    }
  },
  "cells": [
    {
      "cell_type": "markdown",
      "metadata": {
        "id": "view-in-github",
        "colab_type": "text"
      },
      "source": [
        "<a href=\"https://colab.research.google.com/github/Aathish13/AWS-Python/blob/main/Assignment4.ipynb\" target=\"_parent\"><img src=\"https://colab.research.google.com/assets/colab-badge.svg\" alt=\"Open In Colab\"/></a>"
      ]
    },
    {
      "cell_type": "code",
      "execution_count": 1,
      "metadata": {
        "colab": {
          "base_uri": "https://localhost:8080/"
        },
        "id": "TnpjyIAbu-Nl",
        "outputId": "a012c0e8-9653-422c-966c-f3693b6c0c1d"
      },
      "outputs": [
        {
          "output_type": "stream",
          "name": "stdout",
          "text": [
            "Upper case: AATHISH\n",
            "Lower case: aathish\n",
            "Capitalized: Aathish\n",
            "Replaced: Aathish\n"
          ]
        }
      ],
      "source": [
        "# Define a string\n",
        "name = \"Aathish\"\n",
        "# Convert to upper case\n",
        "upper_case = name.upper()\n",
        "print(\"Upper case:\", upper_case)\n",
        "\n",
        "# Convert to lower case\n",
        "lower_case = name.lower()\n",
        "print(\"Lower case:\", lower_case)\n",
        "\n",
        "# Capitalize the string\n",
        "capitalized = name.capitalize()\n",
        "print(\"Capitalized:\", capitalized)\n",
        "\n",
        "# Replace 'e' with 'E'\n",
        "replaced = name.replace('e', 'E')\n",
        "print(\"Replaced:\", replaced)"
      ]
    },
    {
      "cell_type": "code",
      "source": [
        "# Define a list\n",
        "L = [1, 2, 3]\n",
        "\n",
        "# Extend the list\n",
        "L.extend([5, 6, 7])\n",
        "\n",
        "# Remove the 5th value\n",
        "del L[4]\n",
        "\n",
        "print(\"Extended list:\", L)"
      ],
      "metadata": {
        "colab": {
          "base_uri": "https://localhost:8080/"
        },
        "id": "S3Jh9mSrvTwc",
        "outputId": "088ec8fe-8603-4b20-80f9-c2478fcd4290"
      },
      "execution_count": 2,
      "outputs": [
        {
          "output_type": "stream",
          "name": "stdout",
          "text": [
            "Extended list: [1, 2, 3, 5, 7]\n"
          ]
        }
      ]
    },
    {
      "cell_type": "code",
      "source": [
        "# Define a dictionary\n",
        "d = {'mango': 10, 'banana': 0, 'apple': 15, 'orange': 0, 'pineapple': 20}\n",
        "\n",
        "# Remove out of stock fruits (value == 0)\n",
        "out_of_stock = [key for key, value in d.items() if value == 0]\n",
        "for fruit in out_of_stock:\n",
        "    del d[fruit]\n",
        "\n",
        "# Update mango quantity to 15 and decrease pineapple by 5\n",
        "d['mango'] = 15\n",
        "d['pineapple'] -= 5\n",
        "\n",
        "print(\"Updated dictionary:\", d)"
      ],
      "metadata": {
        "colab": {
          "base_uri": "https://localhost:8080/"
        },
        "id": "LbmY2nt5vUyl",
        "outputId": "f8de1061-6d63-4ccd-87e3-67cf77ce5fd9"
      },
      "execution_count": 3,
      "outputs": [
        {
          "output_type": "stream",
          "name": "stdout",
          "text": [
            "Updated dictionary: {'mango': 15, 'apple': 15, 'pineapple': 15}\n"
          ]
        }
      ]
    },
    {
      "cell_type": "code",
      "source": [
        "# Given list\n",
        "a = [2, 4, 6, 8, 10]\n",
        "\n",
        "# Problem 1\n",
        "a += [12, 14, 16, 18]\n",
        "print(a)"
      ],
      "metadata": {
        "colab": {
          "base_uri": "https://localhost:8080/"
        },
        "id": "PNRoUo3gvXm4",
        "outputId": "ddb742c9-b509-4f10-8c21-4b80a90fec71"
      },
      "execution_count": 4,
      "outputs": [
        {
          "output_type": "stream",
          "name": "stdout",
          "text": [
            "[2, 4, 6, 8, 10, 12, 14, 16, 18]\n"
          ]
        }
      ]
    },
    {
      "cell_type": "code",
      "source": [
        "# Given list\n",
        "a = [2, 4, 6, 8, 10]\n",
        "\n",
        "# Problem 2\n",
        "a += [12, 14, 16, 18]\n",
        "print(a)"
      ],
      "metadata": {
        "colab": {
          "base_uri": "https://localhost:8080/"
        },
        "id": "N05-CEAGvaYO",
        "outputId": "16de7ac4-f780-4e97-80cd-3a2149d65a13"
      },
      "execution_count": 5,
      "outputs": [
        {
          "output_type": "stream",
          "name": "stdout",
          "text": [
            "[2, 4, 6, 8, 10, 12, 14, 16, 18]\n"
          ]
        }
      ]
    },
    {
      "cell_type": "code",
      "source": [
        "# Problem 3\n",
        "a[:] = [2, 3, 4, 5, 6, 7, 8, 10]\n",
        "print(a)"
      ],
      "metadata": {
        "colab": {
          "base_uri": "https://localhost:8080/"
        },
        "id": "U9tliyEqvsVz",
        "outputId": "85c1c5a7-63f2-4aa3-b571-3344c40487dd"
      },
      "execution_count": 6,
      "outputs": [
        {
          "output_type": "stream",
          "name": "stdout",
          "text": [
            "[2, 3, 4, 5, 6, 7, 8, 10]\n"
          ]
        }
      ]
    },
    {
      "cell_type": "code",
      "source": [
        "# Problem 4\n",
        "a[3:3] = ['a', 'b', 'c']\n",
        "print(a)"
      ],
      "metadata": {
        "colab": {
          "base_uri": "https://localhost:8080/"
        },
        "id": "MrAdLe-FvujB",
        "outputId": "b8c84de1-2cbe-43f3-c2c8-bfc955102dfb"
      },
      "execution_count": 7,
      "outputs": [
        {
          "output_type": "stream",
          "name": "stdout",
          "text": [
            "[2, 3, 4, 'a', 'b', 'c', 5, 6, 7, 8, 10]\n"
          ]
        }
      ]
    },
    {
      "cell_type": "code",
      "source": [
        "# Problem 5\n",
        "a = a\n",
        "print(a)"
      ],
      "metadata": {
        "colab": {
          "base_uri": "https://localhost:8080/"
        },
        "id": "i4h8Z5Bsvwdb",
        "outputId": "a5adfd56-81d8-4e0b-db13-9b994427be33"
      },
      "execution_count": 8,
      "outputs": [
        {
          "output_type": "stream",
          "name": "stdout",
          "text": [
            "[2, 3, 4, 'a', 'b', 'c', 5, 6, 7, 8, 10]\n"
          ]
        }
      ]
    },
    {
      "cell_type": "code",
      "source": [
        "# Problem 6\n",
        "a[0:0] = []\n",
        "print(a[0:0])"
      ],
      "metadata": {
        "colab": {
          "base_uri": "https://localhost:8080/"
        },
        "id": "cV0_9VTDvycm",
        "outputId": "85e6a47d-b001-42d0-c66f-f84670eb7fd6"
      },
      "execution_count": 9,
      "outputs": [
        {
          "output_type": "stream",
          "name": "stdout",
          "text": [
            "[]\n"
          ]
        }
      ]
    },
    {
      "cell_type": "code",
      "source": [
        "# Problem 7\n",
        "print(a[::-1])"
      ],
      "metadata": {
        "colab": {
          "base_uri": "https://localhost:8080/"
        },
        "id": "ou4OIdjvv1RF",
        "outputId": "49fe1bee-05dd-44fb-fe4b-c4b282e49e37"
      },
      "execution_count": 10,
      "outputs": [
        {
          "output_type": "stream",
          "name": "stdout",
          "text": [
            "[10, 8, 7, 6, 5, 'c', 'b', 'a', 4, 3, 2]\n"
          ]
        }
      ]
    },
    {
      "cell_type": "code",
      "source": [
        "# Problem 8\n",
        "print(a[0:3])"
      ],
      "metadata": {
        "colab": {
          "base_uri": "https://localhost:8080/"
        },
        "id": "HQRIZTmJv5AB",
        "outputId": "e2afd6f4-4407-4f4f-8a4c-067c14bb720d"
      },
      "execution_count": 11,
      "outputs": [
        {
          "output_type": "stream",
          "name": "stdout",
          "text": [
            "[2, 3, 4]\n"
          ]
        }
      ]
    },
    {
      "cell_type": "code",
      "source": [
        "# Problem 9\n",
        "print(a[2:])"
      ],
      "metadata": {
        "colab": {
          "base_uri": "https://localhost:8080/"
        },
        "id": "2tHF__mlv-NF",
        "outputId": "6ca68fc3-3b7a-49b5-a5e8-f857d29f4465"
      },
      "execution_count": 12,
      "outputs": [
        {
          "output_type": "stream",
          "name": "stdout",
          "text": [
            "[4, 'a', 'b', 'c', 5, 6, 7, 8, 10]\n"
          ]
        }
      ]
    },
    {
      "cell_type": "code",
      "source": [
        "# Problem 10\n",
        "a[1:4] = []\n",
        "print(a)"
      ],
      "metadata": {
        "colab": {
          "base_uri": "https://localhost:8080/"
        },
        "id": "FnWMT2iHwA1b",
        "outputId": "33f86919-10b7-4b8d-c5bf-03638239bec2"
      },
      "execution_count": 13,
      "outputs": [
        {
          "output_type": "stream",
          "name": "stdout",
          "text": [
            "[2, 'b', 'c', 5, 6, 7, 8, 10]\n"
          ]
        }
      ]
    },
    {
      "cell_type": "code",
      "source": [
        "# Problem 11\n",
        "print(a[1:4])"
      ],
      "metadata": {
        "colab": {
          "base_uri": "https://localhost:8080/"
        },
        "id": "rcEXSGKjwB8u",
        "outputId": "1463c527-62f3-4b7a-d3cf-43becfc8893a"
      },
      "execution_count": 14,
      "outputs": [
        {
          "output_type": "stream",
          "name": "stdout",
          "text": [
            "['b', 'c', 5]\n"
          ]
        }
      ]
    },
    {
      "cell_type": "code",
      "source": [
        "# Problem 12\n",
        "a[-1:] = a[1:] + [12, 14, 16, 18, 20]\n",
        "print(a)"
      ],
      "metadata": {
        "id": "edbMpQFMwEdZ",
        "outputId": "74a4e28b-8b5f-4d7f-9d88-af2f60872171",
        "colab": {
          "base_uri": "https://localhost:8080/"
        }
      },
      "execution_count": 15,
      "outputs": [
        {
          "output_type": "stream",
          "name": "stdout",
          "text": [
            "[2, 'b', 'c', 5, 6, 7, 8, 'b', 'c', 5, 6, 7, 8, 10, 12, 14, 16, 18, 20]\n"
          ]
        }
      ]
    }
  ]
}