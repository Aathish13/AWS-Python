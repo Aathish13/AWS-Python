{
  "nbformat": 4,
  "nbformat_minor": 0,
  "metadata": {
    "colab": {
      "provenance": [],
      "authorship_tag": "ABX9TyOWhZnUh1yXxyvLzlIS/WX7",
      "include_colab_link": true
    },
    "kernelspec": {
      "name": "python3",
      "display_name": "Python 3"
    },
    "language_info": {
      "name": "python"
    }
  },
  "cells": [
    {
      "cell_type": "markdown",
      "metadata": {
        "id": "view-in-github",
        "colab_type": "text"
      },
      "source": [
        "<a href=\"https://colab.research.google.com/github/Aathish13/AWS-Python/blob/main/Assignment3.ipynb\" target=\"_parent\"><img src=\"https://colab.research.google.com/assets/colab-badge.svg\" alt=\"Open In Colab\"/></a>"
      ]
    },
    {
      "cell_type": "code",
      "execution_count": 1,
      "metadata": {
        "colab": {
          "base_uri": "https://localhost:8080/"
        },
        "id": "lvxEVlVFthPg",
        "outputId": "a4f58628-80ee-4dee-c986-39755693d85e"
      },
      "outputs": [
        {
          "output_type": "stream",
          "name": "stdout",
          "text": [
            "Concatenated string: Hello Aathish\n"
          ]
        }
      ],
      "source": [
        "str1 = \"Hello\"\n",
        "str2 = \"Aathish\"\n",
        "concatenated_string = str1 + \" \" + str2\n",
        "print(\"Concatenated string:\", concatenated_string)"
      ]
    },
    {
      "cell_type": "code",
      "source": [
        "name = \"Aathish\"\n",
        "age = 20\n",
        "formatted_string = \"Name: %s, Age: %d\" % (name, age)\n",
        "print(\"Formatted string:\", formatted_string)"
      ],
      "metadata": {
        "colab": {
          "base_uri": "https://localhost:8080/"
        },
        "id": "Z9b6rUJcuFz_",
        "outputId": "1f294242-98cd-4d8e-c77f-f969d5bedd56"
      },
      "execution_count": 2,
      "outputs": [
        {
          "output_type": "stream",
          "name": "stdout",
          "text": [
            "Formatted string: Name: Aathish, Age: 20\n"
          ]
        }
      ]
    },
    {
      "cell_type": "code",
      "source": [
        "from string import Template\n",
        "template = Template('Name: Aathish,age: 19')\n",
        "formatted_string = template.substitute(name=name, age=age)\n",
        "print(\"Formatted string:\", formatted_string)"
      ],
      "metadata": {
        "colab": {
          "base_uri": "https://localhost:8080/"
        },
        "id": "uMM78wcMuVD6",
        "outputId": "916c384b-66f0-4489-c1b5-022cc34e9f13"
      },
      "execution_count": 4,
      "outputs": [
        {
          "output_type": "stream",
          "name": "stdout",
          "text": [
            "Formatted string: Name: Aathish,age: 19\n"
          ]
        }
      ]
    },
    {
      "cell_type": "code",
      "source": [
        "formatted_string = \"Name: {}, Age: {}\".format(name, age)\n",
        "print(\"Formatted string:\", formatted_string)"
      ],
      "metadata": {
        "colab": {
          "base_uri": "https://localhost:8080/"
        },
        "id": "q0eyiE_euaWG",
        "outputId": "1f73fde8-b235-4695-bcc7-d0e14829c821"
      },
      "execution_count": 5,
      "outputs": [
        {
          "output_type": "stream",
          "name": "stdout",
          "text": [
            "Formatted string: Name: Aathish, Age: 20\n"
          ]
        }
      ]
    },
    {
      "cell_type": "code",
      "source": [
        "result_add = 5 + 5\n",
        "print(\"Addition result:\", result_add)"
      ],
      "metadata": {
        "colab": {
          "base_uri": "https://localhost:8080/"
        },
        "id": "Sj4zsL4mucQk",
        "outputId": "dc1db903-3835-4aa4-b205-f6c26498a71a"
      },
      "execution_count": 6,
      "outputs": [
        {
          "output_type": "stream",
          "name": "stdout",
          "text": [
            "Addition result: 10\n"
          ]
        }
      ]
    },
    {
      "cell_type": "code",
      "source": [
        "result_sub = 74 - 3\n",
        "print(\"Subtraction result:\", result_sub)"
      ],
      "metadata": {
        "colab": {
          "base_uri": "https://localhost:8080/"
        },
        "id": "UuadkiWuueTK",
        "outputId": "c6402f76-694f-41aa-ff35-400e0d384613"
      },
      "execution_count": 7,
      "outputs": [
        {
          "output_type": "stream",
          "name": "stdout",
          "text": [
            "Subtraction result: 71\n"
          ]
        }
      ]
    },
    {
      "cell_type": "code",
      "source": [
        "result_mul = 7 * 9\n",
        "print(\"Multiplication result:\", result_mul)"
      ],
      "metadata": {
        "colab": {
          "base_uri": "https://localhost:8080/"
        },
        "id": "wUGZ8ZxWufw-",
        "outputId": "c1f0eba4-f9de-4cc8-ce2a-6a5f04a6da9a"
      },
      "execution_count": 8,
      "outputs": [
        {
          "output_type": "stream",
          "name": "stdout",
          "text": [
            "Multiplication result: 63\n"
          ]
        }
      ]
    },
    {
      "cell_type": "code",
      "source": [
        "result_div = 10 / 5\n",
        "print(\"Division result:\", result_div)"
      ],
      "metadata": {
        "colab": {
          "base_uri": "https://localhost:8080/"
        },
        "id": "KfzbK358ujhy",
        "outputId": "42324dca-9e26-4d1a-a504-2a182580b160"
      },
      "execution_count": 9,
      "outputs": [
        {
          "output_type": "stream",
          "name": "stdout",
          "text": [
            "Division result: 2.0\n"
          ]
        }
      ]
    },
    {
      "cell_type": "code",
      "source": [
        "result_exp = 3 ** 5\n",
        "print(\"Exponentiation result:\", result_exp)"
      ],
      "metadata": {
        "colab": {
          "base_uri": "https://localhost:8080/"
        },
        "id": "y4fBtHq8umFC",
        "outputId": "1248af98-b958-4c04-9666-b32290c36c6b"
      },
      "execution_count": 10,
      "outputs": [
        {
          "output_type": "stream",
          "name": "stdout",
          "text": [
            "Exponentiation result: 243\n"
          ]
        }
      ]
    },
    {
      "cell_type": "code",
      "source": [
        "result_mod = 24 % 2\n",
        "print(\"Modulus result:\", result_mod)"
      ],
      "metadata": {
        "colab": {
          "base_uri": "https://localhost:8080/"
        },
        "id": "ETXmMS60unQm",
        "outputId": "adaace1f-7646-4dd3-f2df-7f7ad83965b6"
      },
      "execution_count": 11,
      "outputs": [
        {
          "output_type": "stream",
          "name": "stdout",
          "text": [
            "Modulus result: 0\n"
          ]
        }
      ]
    },
    {
      "cell_type": "code",
      "source": [
        "x = 10\n",
        "x -= 3\n",
        "print(\"After subtraction assignment:\", x)"
      ],
      "metadata": {
        "colab": {
          "base_uri": "https://localhost:8080/"
        },
        "id": "URTvR1dSuqRh",
        "outputId": "52cf0ebb-f05f-42ad-e8dc-3012de87269d"
      },
      "execution_count": 12,
      "outputs": [
        {
          "output_type": "stream",
          "name": "stdout",
          "text": [
            "After subtraction assignment: 7\n"
          ]
        }
      ]
    },
    {
      "cell_type": "code",
      "source": [
        "y = 5\n",
        "y *= 2\n",
        "print(\"After multiplication assignment:\", y)"
      ],
      "metadata": {
        "colab": {
          "base_uri": "https://localhost:8080/"
        },
        "id": "KfU4uWwGuskl",
        "outputId": "99f6e5e9-b118-4c60-baaf-7a658a535e31"
      },
      "execution_count": 13,
      "outputs": [
        {
          "output_type": "stream",
          "name": "stdout",
          "text": [
            "After multiplication assignment: 10\n"
          ]
        }
      ]
    },
    {
      "cell_type": "code",
      "source": [
        "z = 15\n",
        "z /= 4\n",
        "print(\"After division assignment:\", z)"
      ],
      "metadata": {
        "id": "uC0cAFm_uv_a",
        "outputId": "d9a6c180-10de-4bf7-8679-b8b658adffe1",
        "colab": {
          "base_uri": "https://localhost:8080/"
        }
      },
      "execution_count": 14,
      "outputs": [
        {
          "output_type": "stream",
          "name": "stdout",
          "text": [
            "After division assignment: 3.75\n"
          ]
        }
      ]
    }
  ]
}