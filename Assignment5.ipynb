{
  "nbformat": 4,
  "nbformat_minor": 0,
  "metadata": {
    "colab": {
      "provenance": [],
      "authorship_tag": "ABX9TyNAyQVxDFbsyyg0R6/tbuMq",
      "include_colab_link": true
    },
    "kernelspec": {
      "name": "python3",
      "display_name": "Python 3"
    },
    "language_info": {
      "name": "python"
    }
  },
  "cells": [
    {
      "cell_type": "markdown",
      "metadata": {
        "id": "view-in-github",
        "colab_type": "text"
      },
      "source": [
        "<a href=\"https://colab.research.google.com/github/Aathish13/AWS-Python/blob/main/Assignment5.ipynb\" target=\"_parent\"><img src=\"https://colab.research.google.com/assets/colab-badge.svg\" alt=\"Open In Colab\"/></a>"
      ]
    },
    {
      "cell_type": "code",
      "execution_count": 1,
      "metadata": {
        "colab": {
          "base_uri": "https://localhost:8080/"
        },
        "id": "y_hpY5oNwQzv",
        "outputId": "514f5515-705c-4236-8e77-4168523c317a"
      },
      "outputs": [
        {
          "output_type": "stream",
          "name": "stdout",
          "text": [
            "Concatenated string: Hello World\n"
          ]
        }
      ],
      "source": [
        "str1 = \"Hello\"\n",
        "str2 = \"World\"\n",
        "concatenated_string = str1 + \" \" + str2\n",
        "print(\"Concatenated string:\", concatenated_string)"
      ]
    },
    {
      "cell_type": "code",
      "source": [
        "# Using the % operator\n",
        "name = \"Alice\"\n",
        "age = 30\n",
        "formatted_string = \"Name: %s, Age: %d\" % (name, age)\n",
        "print(\"Formatted string (using % operator):\", formatted_string)"
      ],
      "metadata": {
        "colab": {
          "base_uri": "https://localhost:8080/"
        },
        "id": "DF3AGDX6wb1_",
        "outputId": "8c91cdd1-13c6-47c8-9a40-0c49bb29cfea"
      },
      "execution_count": 2,
      "outputs": [
        {
          "output_type": "stream",
          "name": "stdout",
          "text": [
            "Formatted string (using % operator): Name: Alice, Age: 30\n"
          ]
        }
      ]
    },
    {
      "cell_type": "code",
      "source": [
        "# Using the format() method\n",
        "formatted_string = \"Name: {}, Age: {}\".format(name, age)\n",
        "print(\"Formatted string (using format() method):\", formatted_string)\n",
        "\n",
        "# Using f-strings (formatted string literals)\n",
        "formatted_string = f\"Name: {name}, Age: {age}\"\n",
        "print(\"Formatted string (using f-strings):\", formatted_string)\n",
        "\n",
        "# Using template strings\n",
        "from string import Template\n",
        "template = Template(\"Name: name, Age : age\")\n",
        "formatted_string = template.substitute(name=name, age=age)\n",
        "print(\"Formatted string (using template strings):\", formatted_string)"
      ],
      "metadata": {
        "colab": {
          "base_uri": "https://localhost:8080/"
        },
        "id": "QF45YvB3wesb",
        "outputId": "7c97f11e-4a69-46c3-a667-e8b0a6251782"
      },
      "execution_count": 3,
      "outputs": [
        {
          "output_type": "stream",
          "name": "stdout",
          "text": [
            "Formatted string (using format() method): Name: Alice, Age: 30\n",
            "Formatted string (using f-strings): Name: Alice, Age: 30\n",
            "Formatted string (using template strings): Name: name, Age : age\n"
          ]
        }
      ]
    },
    {
      "cell_type": "code",
      "source": [
        "# Addition\n",
        "result_add = 5 + 3\n",
        "print(\"Addition result:\", result_add)\n",
        "# Subtraction\n",
        "result_sub = 7 - 2\n",
        "print(\"Subtraction result:\", result_sub)\n",
        "\n",
        "# Multiplication\n",
        "result_mul = 4 * 6\n",
        "print(\"Multiplication result:\", result_mul)\n",
        "\n",
        "# Division\n",
        "result_div = 10 / 2\n",
        "print(\"Division result:\", result_div)\n",
        "\n",
        "# Exponentiation\n",
        "result_exp = 2 ** 3\n",
        "print(\"Exponentiation result:\", result_exp)\n",
        "\n",
        "# Modulus\n",
        "result_mod = 15 % 4\n",
        "print(\"Modulus result:\", result_mod)\n",
        "# Example for -= (Subtraction assignment)\n",
        "x = 10\n",
        "x -= 3  # Equivalent to x = x - 3\n",
        "print(\"After subtraction assignment:\", x)\n",
        "\n",
        "# Example for *= (Multiplication assignment)\n",
        "y = 5\n",
        "y *= 2  # Equivalent to y = y * 2\n",
        "print(\"After multiplication assignment:\", y)\n",
        "\n",
        "# Example for /= (Division assignment)\n",
        "z = 20\n",
        "z /= 4  # Equivalent to z = z / 4\n",
        "print(\"After division assignment:\", z)"
      ],
      "metadata": {
        "id": "GvJOMJRawjBF",
        "outputId": "fdd48caf-e97d-481d-fb32-f8d520da07dd",
        "colab": {
          "base_uri": "https://localhost:8080/"
        }
      },
      "execution_count": 4,
      "outputs": [
        {
          "output_type": "stream",
          "name": "stdout",
          "text": [
            "Addition result: 8\n",
            "Subtraction result: 5\n",
            "Multiplication result: 24\n",
            "Division result: 5.0\n",
            "Exponentiation result: 8\n",
            "Modulus result: 3\n",
            "After subtraction assignment: 7\n",
            "After multiplication assignment: 10\n",
            "After division assignment: 5.0\n"
          ]
        }
      ]
    }
  ]
}