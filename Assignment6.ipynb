{
  "nbformat": 4,
  "nbformat_minor": 0,
  "metadata": {
    "colab": {
      "provenance": [],
      "authorship_tag": "ABX9TyN2nDQvMFMSCg8XibDBz9Dq",
      "include_colab_link": true
    },
    "kernelspec": {
      "name": "python3",
      "display_name": "Python 3"
    },
    "language_info": {
      "name": "python"
    }
  },
  "cells": [
    {
      "cell_type": "markdown",
      "metadata": {
        "id": "view-in-github",
        "colab_type": "text"
      },
      "source": [
        "<a href=\"https://colab.research.google.com/github/Aathish13/AWS-Python/blob/main/Assignment6.ipynb\" target=\"_parent\"><img src=\"https://colab.research.google.com/assets/colab-badge.svg\" alt=\"Open In Colab\"/></a>"
      ]
    },
    {
      "cell_type": "code",
      "execution_count": null,
      "metadata": {
        "id": "3EUMEbKGwqLK"
      },
      "outputs": [],
      "source": [
        "def cow_bull(secret, guess):\n",
        "    cow = sum(s == g for s, g in zip(secret, guess))\n",
        "    bull = sum(g in secret for g in guess) - cow\n",
        "    return cow, bull\n",
        "\n",
        "# Example usage\n",
        "secret = \"hello\"\n",
        "guess = \"hallo\"\n",
        "print(cow_bull(secret, guess))"
      ]
    },
    {
      "cell_type": "code",
      "source": [
        "def is_palindrome(s):\n",
        "    return s == s[::-1]\n",
        "\n",
        "# Example usage\n",
        "print(is_palindrome(\"radar\"))\n",
        "print(is_palindrome(\"hello\"))"
      ],
      "metadata": {
        "colab": {
          "base_uri": "https://localhost:8080/"
        },
        "id": "zpJfMLlVw4Bs",
        "outputId": "b3ddddc2-25d6-4ee6-9504-d7c11f2c4d53"
      },
      "execution_count": 2,
      "outputs": [
        {
          "output_type": "stream",
          "name": "stdout",
          "text": [
            "True\n",
            "False\n"
          ]
        }
      ]
    },
    {
      "cell_type": "code",
      "source": [
        "def fibonacci(n):\n",
        "    fibo = [0, 1]\n",
        "    while len(fibo) < n:\n",
        "        fibo.append(fibo[-1] + fibo[-2])\n",
        "    return fibo[:n]\n",
        "\n",
        "# Example usage\n",
        "print(fibonacci(10))"
      ],
      "metadata": {
        "colab": {
          "base_uri": "https://localhost:8080/"
        },
        "id": "TpNoV6blw80h",
        "outputId": "dac62b7e-1474-49aa-f767-d08cbeaede6f"
      },
      "execution_count": 3,
      "outputs": [
        {
          "output_type": "stream",
          "name": "stdout",
          "text": [
            "[0, 1, 1, 2, 3, 5, 8, 13, 21, 34]\n"
          ]
        }
      ]
    },
    {
      "cell_type": "code",
      "source": [
        "def my_range(start, stop=None, step=1):\n",
        "    if stop is None:\n",
        "        stop = start\n",
        "        start = 0\n",
        "    return list(range(start, stop, step))\n",
        "\n",
        "# Example usage\n",
        "print(my_range(5))\n",
        "print(my_range(2, 8, 2))"
      ],
      "metadata": {
        "colab": {
          "base_uri": "https://localhost:8080/"
        },
        "id": "FgaDubo4xAdy",
        "outputId": "d1fe7648-f388-4a97-9e90-06cc0db35f7c"
      },
      "execution_count": 4,
      "outputs": [
        {
          "output_type": "stream",
          "name": "stdout",
          "text": [
            "[0, 1, 2, 3, 4]\n",
            "[2, 4, 6]\n"
          ]
        }
      ]
    }
  ]
}